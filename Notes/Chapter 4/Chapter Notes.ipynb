{
 "cells": [
  {
   "cell_type": "markdown",
   "metadata": {},
   "source": [
    "# 4.1 Configuration\n",
    "\n",
    "> Flask-WTF expects the application to have a secret key configured. A secret key is a string with any random and unique content that is used as an encryption or signing key to improve the security of the application in several ways. Flask uses this key to protect the contents of the user session against tampering.\n",
    "\n",
    "Store this key in `app.config` as a dictionary value with key 'SECRET_KEY' for now.\n",
    "<br><br>"
   ]
  },
  {
   "cell_type": "markdown",
   "metadata": {},
   "source": [
    "# 4.2 Form Classes\n",
    "\n",
    "> When using Flask-WTF, each web form is represented in the server by a class that inherits from the class FlaskForm. The class defines the list of fields in the form, each represented by an object. Each field object can have one or more validators attached. A validator is a function that checks whether the data submitted by the user is valid.\n",
    "\n",
    "The list of standard HTML fields supported by WTForms is as shown:\n",
    "**WTForms standard HTML fields**\n",
    "\n",
    "|Field type|Description|\n",
    "|-----|-----|\n",
    "|`BooleanField`|Checkbox with True and False values|\n",
    "|`DateField`|Text field that accepts a datetime.date value in a given format|\n",
    "|`DateTimeField`|Text field that accepts a datetime.datetime value in a given format|\n",
    "|`DecimalField`|Text field that accepts a decimal.Decimal value|\n",
    "|`FileField`|File upload field|\n",
    "|`HiddenField`|Hidden text field|\n",
    "|`MultipleFileField`|Multiple file upload field|\n",
    "|`FieldList`|List of fields of a given type|\n",
    "|`FloatField`|Text field that accepts a floating-point value|\n",
    "|`FormField`|Form embedded as a field in a container form|\n",
    "|`IntegerField`|Text field that accepts an integer value|\n",
    "|`PasswordField`|Password text field|\n",
    "|`RadioField`|List of radio buttons|\n",
    "|`SelectField`|Drop-down list of choices|\n",
    "|`SelectMultipleField`|Drop-down list of choices with multiple selection|\n",
    "|`SubmitField`|Form submission button|\n",
    "|`StringField`|Text field|\n",
    "|`TextAreaField`|Multiple-line text field|\n",
    "\n",
    "<br>\n",
    "\n",
    "The list of WTForms built-in validators is as shown:\n",
    "**WTForms validators**\n",
    "\n",
    "|Validator|Description|\n",
    "|-----|-----|\n",
    "|`DataRequired`|Validates that the field contains data after type conversion|\n",
    "|`Email`|Validates an email address|\n",
    "|`EqualTo`|Compares the values of two fields; useful when requesting a password to be entered twice for confirmation|\n",
    "|`InputRequired`|Validates that the field contains data before type conversion|\n",
    "|`IPAddress`|Validates an IPv4 network address|\n",
    "|`Length`|Validates the length of the string entered|\n",
    "|`MacAddress`|Validates a MAC address|\n",
    "|`NumberRange`|Validates that the value entered is within a numeric range|\n",
    "|`Optional`|Allows empty input in the field, skipping additional validators|\n",
    "|`Regexp`|Validates the input against a regular expression|\n",
    "|`URL`|Validates a URL|\n",
    "|`UUID`|Validates a UUID|\n",
    "|`AnyOf`|Validates that the input is one of a list of possible values|\n",
    "|`NoneOf`|Validates that the input is none of a list of possible values|\n",
    "\n",
    "<br><br>"
   ]
  },
  {
   "cell_type": "markdown",
   "metadata": {},
   "source": [
    "# 4.3 HTML Rendering of Forms\n",
    "\n",
    "> Form fields are callables that, when invoked from a template, render themselves to HTML. Assuming that the view function passes a NameForm instance to the template as an argument named form, the template can generate a simple HTML\n",
    "\n",
    "`form.hidden_tag()` element is used by Flask-WTF to implement CSRF protection.\n",
    "\n",
    "Note: eventhough Flask-WTF has few form styles, it is better to utilize bootstraps' own set of form styles whenever possible.\n",
    "\n",
    "Note: When the page is intended to take data in, remember to change the route config to have both GET and POST methods.\n",
    "\n",
    "Note: As you provide input to the entry box and press submit, remember to render the page with the box empty in the next instance. This, in this case, is done by assigning input value to local variable and clearing the global one.\n",
    "\n",
    "<br><br>"
   ]
  },
  {
   "cell_type": "markdown",
   "metadata": {},
   "source": [
    "# Redirects and User Sessions\n",
    "\n",
    "Note: When the user press refresh, the browser resends the previous request. Developer should provide redirects to avoid this error especially after POST requests.\n",
    "\n",
    ">This is achieved by responding to POST requests with a redirect instead of a normal response.\n",
    "<br>\n",
    "\n",
    "> NOTE: By default, user sessions are stored in client-side cookies that are cryptographically signed using the configured secret key. Any tampering with the cookie content would render the signature invalid, thus invalidating the session.\n",
    "\n",
    "Here, instead of local variable, we'll use flask's session class to store name as a dictionary - value data.\n",
    "\n",
    "<br><br>"
   ]
  },
  {
   "cell_type": "markdown",
   "metadata": {},
   "source": [
    "# Message Flashing\n",
    "\n",
    "Use this module to create flash messages like 'Login successful'."
   ]
  }
 ],
 "metadata": {
  "interpreter": {
   "hash": "767c5a27e3332ff879028260123a8ba33b68fd3a7b583617087f83ade4e21b76"
  },
  "kernelspec": {
   "display_name": "Python 3.10.4 ('Flask')",
   "language": "python",
   "name": "python3"
  },
  "language_info": {
   "codemirror_mode": {
    "name": "ipython",
    "version": 3
   },
   "file_extension": ".py",
   "mimetype": "text/x-python",
   "name": "python",
   "nbconvert_exporter": "python",
   "pygments_lexer": "ipython3",
   "version": "3.10.4"
  },
  "orig_nbformat": 4
 },
 "nbformat": 4,
 "nbformat_minor": 2
}
