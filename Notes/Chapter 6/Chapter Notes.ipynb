{
 "cells": [],
 "metadata": {
  "interpreter": {
   "hash": "a2433473a67da33dbaa3bdf586196a87f395b6fdc97143508ad463eea8d620e7"
  },
  "kernelspec": {
   "display_name": "Python 3.10.4 ('flask')",
   "language": "python",
   "name": "python3"
  },
  "language_info": {
   "codemirror_mode": {
    "name": "ipython",
    "version": 3
   },
   "file_extension": ".py",
   "mimetype": "text/x-python",
   "name": "python",
   "nbconvert_exporter": "python",
   "pygments_lexer": "ipython3",
   "version": "3.10.4"
  },
  "orig_nbformat": 4
 },
 "nbformat": 4,
 "nbformat_minor": 2
}
