{
 "cells": [
  {
   "cell_type": "markdown",
   "metadata": {},
   "source": [
    "# 4.1 Configuration\n",
    "\n",
    "> Flask-WTF expects the application to have a secret key configured. A secret key is a string with any random and unique content that is used as an encryption or signing key to improve the security of the application in several ways. Flask uses this key to protect the contents of the user session against tampering.\n",
    "\n",
    "Store this key in `app.config` as a dictionary value with key 'SECRET_KEY' for now.\n",
    "\n",
    "# 4.2 Form Classes\n",
    "\n",
    "> When using Flask-WTF, each web form is represented in the server by a class that inherits from the class FlaskForm. The class defines the list of fields in the form, each represented by an object. Each field object can have one or more validators attached. A validator is a function that checks whether the data submitted by the user is valid.\n",
    "\n",
    "\n",
    "### 4.1.1 "
   ]
  }
 ],
 "metadata": {
  "interpreter": {
   "hash": "767c5a27e3332ff879028260123a8ba33b68fd3a7b583617087f83ade4e21b76"
  },
  "kernelspec": {
   "display_name": "Python 3.10.4 ('Flask')",
   "language": "python",
   "name": "python3"
  },
  "language_info": {
   "codemirror_mode": {
    "name": "ipython",
    "version": 3
   },
   "file_extension": ".py",
   "mimetype": "text/x-python",
   "name": "python",
   "nbconvert_exporter": "python",
   "pygments_lexer": "ipython3",
   "version": "3.10.4"
  },
  "orig_nbformat": 4
 },
 "nbformat": 4,
 "nbformat_minor": 2
}
