{
 "cells": [
  {
   "cell_type": "markdown",
   "metadata": {},
   "source": [
    "> A template is a file that contains the text of a response, with placeholder variables for the dynamic parts that will be known only in the context of a request. The process that replaces the variables with actual values and returns a final response string is called rendering. For the task of rendering templates, Flask uses a powerful template engine called Jinja2."
   ]
  },
  {
   "cell_type": "markdown",
   "metadata": {},
   "source": [
    "# 3.1 The Jinja2 Template Engine\n",
    "\n",
    "### 3.1.1 Rendering Templates\n",
    ">By default Flask looks for templates in a *templates* subdirectory located inside the main application directory."
   ]
  },
  {
   "cell_type": "markdown",
   "metadata": {},
   "source": []
  }
 ],
 "metadata": {
  "language_info": {
   "name": "python"
  },
  "orig_nbformat": 4
 },
 "nbformat": 4,
 "nbformat_minor": 2
}
